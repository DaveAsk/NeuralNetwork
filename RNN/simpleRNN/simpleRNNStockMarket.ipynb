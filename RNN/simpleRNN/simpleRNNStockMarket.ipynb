{
 "cells": [
  {
   "cell_type": "code",
   "execution_count": 1,
   "metadata": {},
   "outputs": [
    {
     "name": "stdout",
     "output_type": "stream",
     "text": [
      "WARNING:tensorflow:From C:\\Users\\David\\AppData\\Local\\Packages\\PythonSoftwareFoundation.Python.3.11_qbz5n2kfra8p0\\LocalCache\\local-packages\\Python311\\site-packages\\keras\\src\\losses.py:2976: The name tf.losses.sparse_softmax_cross_entropy is deprecated. Please use tf.compat.v1.losses.sparse_softmax_cross_entropy instead.\n",
      "\n"
     ]
    }
   ],
   "source": [
    "import pandas as pd\n",
    "import numpy as np\n",
    "from tensorflow.keras.models import Sequential\n",
    "from tensorflow.keras.layers import Dense, SimpleRNN\n",
    "import matplotlib.pyplot as plt"
   ]
  },
  {
   "cell_type": "code",
   "execution_count": 2,
   "metadata": {},
   "outputs": [
    {
     "data": {
      "text/html": [
       "<div>\n",
       "<style scoped>\n",
       "    .dataframe tbody tr th:only-of-type {\n",
       "        vertical-align: middle;\n",
       "    }\n",
       "\n",
       "    .dataframe tbody tr th {\n",
       "        vertical-align: top;\n",
       "    }\n",
       "\n",
       "    .dataframe thead th {\n",
       "        text-align: right;\n",
       "    }\n",
       "</style>\n",
       "<table border=\"1\" class=\"dataframe\">\n",
       "  <thead>\n",
       "    <tr style=\"text-align: right;\">\n",
       "      <th></th>\n",
       "      <th>Date</th>\n",
       "      <th>Open</th>\n",
       "      <th>High</th>\n",
       "      <th>Low</th>\n",
       "      <th>Close</th>\n",
       "      <th>Volume</th>\n",
       "      <th>Name</th>\n",
       "    </tr>\n",
       "  </thead>\n",
       "  <tbody>\n",
       "    <tr>\n",
       "      <th>0</th>\n",
       "      <td>2006-01-03</td>\n",
       "      <td>10.34</td>\n",
       "      <td>10.68</td>\n",
       "      <td>10.32</td>\n",
       "      <td>10.68</td>\n",
       "      <td>201853036</td>\n",
       "      <td>AAPL</td>\n",
       "    </tr>\n",
       "    <tr>\n",
       "      <th>1</th>\n",
       "      <td>2006-01-04</td>\n",
       "      <td>10.73</td>\n",
       "      <td>10.85</td>\n",
       "      <td>10.64</td>\n",
       "      <td>10.71</td>\n",
       "      <td>155225609</td>\n",
       "      <td>AAPL</td>\n",
       "    </tr>\n",
       "    <tr>\n",
       "      <th>2</th>\n",
       "      <td>2006-01-05</td>\n",
       "      <td>10.69</td>\n",
       "      <td>10.70</td>\n",
       "      <td>10.54</td>\n",
       "      <td>10.63</td>\n",
       "      <td>112396081</td>\n",
       "      <td>AAPL</td>\n",
       "    </tr>\n",
       "    <tr>\n",
       "      <th>3</th>\n",
       "      <td>2006-01-06</td>\n",
       "      <td>10.75</td>\n",
       "      <td>10.96</td>\n",
       "      <td>10.65</td>\n",
       "      <td>10.90</td>\n",
       "      <td>176139334</td>\n",
       "      <td>AAPL</td>\n",
       "    </tr>\n",
       "    <tr>\n",
       "      <th>4</th>\n",
       "      <td>2006-01-09</td>\n",
       "      <td>10.96</td>\n",
       "      <td>11.03</td>\n",
       "      <td>10.82</td>\n",
       "      <td>10.86</td>\n",
       "      <td>168861224</td>\n",
       "      <td>AAPL</td>\n",
       "    </tr>\n",
       "  </tbody>\n",
       "</table>\n",
       "</div>"
      ],
      "text/plain": [
       "         Date   Open   High    Low  Close     Volume  Name\n",
       "0  2006-01-03  10.34  10.68  10.32  10.68  201853036  AAPL\n",
       "1  2006-01-04  10.73  10.85  10.64  10.71  155225609  AAPL\n",
       "2  2006-01-05  10.69  10.70  10.54  10.63  112396081  AAPL\n",
       "3  2006-01-06  10.75  10.96  10.65  10.90  176139334  AAPL\n",
       "4  2006-01-09  10.96  11.03  10.82  10.86  168861224  AAPL"
      ]
     },
     "execution_count": 2,
     "metadata": {},
     "output_type": "execute_result"
    }
   ],
   "source": [
    "data = pd.read_csv('data/AAPL_2006-01-01_to_2018-01-01.csv')\n",
    "data.head()"
   ]
  },
  {
   "cell_type": "code",
   "execution_count": 3,
   "metadata": {},
   "outputs": [
    {
     "name": "stdout",
     "output_type": "stream",
     "text": [
      "<class 'pandas.core.frame.DataFrame'>\n",
      "RangeIndex: 3019 entries, 0 to 3018\n",
      "Data columns (total 7 columns):\n",
      " #   Column  Non-Null Count  Dtype  \n",
      "---  ------  --------------  -----  \n",
      " 0   Date    3019 non-null   object \n",
      " 1   Open    3019 non-null   float64\n",
      " 2   High    3019 non-null   float64\n",
      " 3   Low     3019 non-null   float64\n",
      " 4   Close   3019 non-null   float64\n",
      " 5   Volume  3019 non-null   int64  \n",
      " 6   Name    3019 non-null   object \n",
      "dtypes: float64(4), int64(1), object(2)\n",
      "memory usage: 165.2+ KB\n"
     ]
    }
   ],
   "source": [
    "data.info()"
   ]
  },
  {
   "cell_type": "code",
   "execution_count": 4,
   "metadata": {},
   "outputs": [
    {
     "data": {
      "text/html": [
       "<div>\n",
       "<style scoped>\n",
       "    .dataframe tbody tr th:only-of-type {\n",
       "        vertical-align: middle;\n",
       "    }\n",
       "\n",
       "    .dataframe tbody tr th {\n",
       "        vertical-align: top;\n",
       "    }\n",
       "\n",
       "    .dataframe thead th {\n",
       "        text-align: right;\n",
       "    }\n",
       "</style>\n",
       "<table border=\"1\" class=\"dataframe\">\n",
       "  <thead>\n",
       "    <tr style=\"text-align: right;\">\n",
       "      <th></th>\n",
       "      <th>Open</th>\n",
       "    </tr>\n",
       "  </thead>\n",
       "  <tbody>\n",
       "    <tr>\n",
       "      <th>0</th>\n",
       "      <td>10.34</td>\n",
       "    </tr>\n",
       "    <tr>\n",
       "      <th>1</th>\n",
       "      <td>10.73</td>\n",
       "    </tr>\n",
       "    <tr>\n",
       "      <th>2</th>\n",
       "      <td>10.69</td>\n",
       "    </tr>\n",
       "    <tr>\n",
       "      <th>3</th>\n",
       "      <td>10.75</td>\n",
       "    </tr>\n",
       "    <tr>\n",
       "      <th>4</th>\n",
       "      <td>10.96</td>\n",
       "    </tr>\n",
       "  </tbody>\n",
       "</table>\n",
       "</div>"
      ],
      "text/plain": [
       "    Open\n",
       "0  10.34\n",
       "1  10.73\n",
       "2  10.69\n",
       "3  10.75\n",
       "4  10.96"
      ]
     },
     "execution_count": 4,
     "metadata": {},
     "output_type": "execute_result"
    }
   ],
   "source": [
    "data = data[['Open']]\n",
    "data.head()"
   ]
  },
  {
   "cell_type": "code",
   "execution_count": 5,
   "metadata": {},
   "outputs": [
    {
     "data": {
      "text/plain": [
       "[<matplotlib.lines.Line2D at 0x2ca466c0950>]"
      ]
     },
     "execution_count": 5,
     "metadata": {},
     "output_type": "execute_result"
    },
    {
     "data": {
      "image/png": "[encoded data removed]",
      "text/plain": [
       "<Figure size 640x480 with 1 Axes>"
      ]
     },
     "metadata": {},
     "output_type": "display_data"
    }
   ],
   "source": [
    "plt.plot(data['Open'])"
   ]
  },
  {
   "cell_type": "code",
   "execution_count": 6,
   "metadata": {},
   "outputs": [],
   "source": [
    "X = data['Open'].values"
   ]
  },
  {
   "cell_type": "code",
   "execution_count": 7,
   "metadata": {},
   "outputs": [],
   "source": [
    "X_train, X_test = X[:2500], X[2500:]"
   ]
  },
  {
   "cell_type": "code",
   "execution_count": 8,
   "metadata": {},
   "outputs": [
    {
     "name": "stdout",
     "output_type": "stream",
     "text": [
      "WARNING:tensorflow:From C:\\Users\\David\\AppData\\Local\\Packages\\PythonSoftwareFoundation.Python.3.11_qbz5n2kfra8p0\\LocalCache\\local-packages\\Python311\\site-packages\\keras\\src\\backend.py:873: The name tf.get_default_graph is deprecated. Please use tf.compat.v1.get_default_graph instead.\n",
      "\n"
     ]
    }
   ],
   "source": [
    "model = Sequential()\n",
    "model.add(SimpleRNN(units=64, activation='tanh'))\n",
    "model.add(Dense(1))"
   ]
  },
  {
   "cell_type": "code",
   "execution_count": 9,
   "metadata": {},
   "outputs": [
    {
     "name": "stdout",
     "output_type": "stream",
     "text": [
      "WARNING:tensorflow:From C:\\Users\\David\\AppData\\Local\\Packages\\PythonSoftwareFoundation.Python.3.11_qbz5n2kfra8p0\\LocalCache\\local-packages\\Python311\\site-packages\\keras\\src\\optimizers\\__init__.py:309: The name tf.train.Optimizer is deprecated. Please use tf.compat.v1.train.Optimizer instead.\n",
      "\n"
     ]
    }
   ],
   "source": [
    "model.compile(loss='mean_absolute_error', optimizer='adam')"
   ]
  },
  {
   "cell_type": "code",
   "execution_count": 11,
   "metadata": {},
   "outputs": [],
   "source": [
    "XT, yT = [], []\n",
    "for i in range(len(X_train) - 30):\n",
    "    d = i + 30\n",
    "    XT.append(X_train[i:d,])\n",
    "    yT.append(X_train[d])"
   ]
  },
  {
   "cell_type": "code",
   "execution_count": 13,
   "metadata": {},
   "outputs": [],
   "source": [
    "Xt, yt = [], []\n",
    "for i in range(len(X_test) - 30):\n",
    "    d = i + 30\n",
    "    Xt.append(X_test[i:d,])\n",
    "    yt.append(X_test[d])"
   ]
  },
  {
   "cell_type": "code",
   "execution_count": 14,
   "metadata": {},
   "outputs": [],
   "source": [
    "XT = np.array(XT)\n",
    "Xt = np.array(Xt)"
   ]
  },
  {
   "cell_type": "code",
   "execution_count": 15,
   "metadata": {},
   "outputs": [],
   "source": [
    "XT = np.reshape(XT, (XT.shape[0], XT.shape[1], 1))\n",
    "Xt = np.reshape(Xt, (Xt.shape[0], Xt.shape[1], 1))"
   ]
  },
  {
   "cell_type": "code",
   "execution_count": 16,
   "metadata": {},
   "outputs": [],
   "source": [
    "yT = np.array(yT)\n",
    "yt = np.array(yt)"
   ]
  },
  {
   "cell_type": "code",
   "execution_count": 17,
   "metadata": {},
   "outputs": [
    {
     "name": "stdout",
     "output_type": "stream",
     "text": [
      "Epoch 1/100\n",
      "WARNING:tensorflow:From C:\\Users\\David\\AppData\\Local\\Packages\\PythonSoftwareFoundation.Python.3.11_qbz5n2kfra8p0\\LocalCache\\local-packages\\Python311\\site-packages\\keras\\src\\utils\\tf_utils.py:492: The name tf.ragged.RaggedTensorValue is deprecated. Please use tf.compat.v1.ragged.RaggedTensorValue instead.\n",
      "\n",
      "124/124 [==============================] - 3s 6ms/step - loss: 43.6663\n",
      "Epoch 2/100\n",
      "124/124 [==============================] - 1s 5ms/step - loss: 35.2529\n",
      "Epoch 3/100\n",
      "124/124 [==============================] - 1s 5ms/step - loss: 30.1467\n",
      "Epoch 4/100\n",
      "124/124 [==============================] - 1s 5ms/step - loss: 26.1949\n",
      "Epoch 5/100\n",
      "124/124 [==============================] - 1s 5ms/step - loss: 22.7201\n",
      "Epoch 6/100\n",
      "124/124 [==============================] - 1s 5ms/step - loss: 19.5134\n",
      "Epoch 7/100\n",
      "124/124 [==============================] - 1s 5ms/step - loss: 16.6744\n",
      "Epoch 8/100\n",
      "124/124 [==============================] - 1s 5ms/step - loss: 14.2673\n",
      "Epoch 9/100\n",
      "124/124 [==============================] - 1s 5ms/step - loss: 12.2190\n",
      "Epoch 10/100\n",
      "124/124 [==============================] - 1s 5ms/step - loss: 10.4875\n",
      "Epoch 11/100\n",
      "124/124 [==============================] - 1s 5ms/step - loss: 8.9835\n",
      "Epoch 12/100\n",
      "124/124 [==============================] - 1s 5ms/step - loss: 7.6854\n",
      "Epoch 13/100\n",
      "124/124 [==============================] - 1s 5ms/step - loss: 6.6589\n",
      "Epoch 14/100\n",
      "124/124 [==============================] - 1s 5ms/step - loss: 5.8200\n",
      "Epoch 15/100\n",
      "124/124 [==============================] - 1s 5ms/step - loss: 5.1669\n",
      "Epoch 16/100\n",
      "124/124 [==============================] - 1s 5ms/step - loss: 4.5665\n",
      "Epoch 17/100\n",
      "124/124 [==============================] - 1s 6ms/step - loss: 4.0722\n",
      "Epoch 18/100\n",
      "124/124 [==============================] - 1s 5ms/step - loss: 3.6205\n",
      "Epoch 19/100\n",
      "124/124 [==============================] - 1s 5ms/step - loss: 3.2355\n",
      "Epoch 20/100\n",
      "124/124 [==============================] - 1s 5ms/step - loss: 2.9241\n",
      "Epoch 21/100\n",
      "124/124 [==============================] - 1s 6ms/step - loss: 2.6590\n",
      "Epoch 22/100\n",
      "124/124 [==============================] - 1s 5ms/step - loss: 2.3824\n",
      "Epoch 23/100\n",
      "124/124 [==============================] - 1s 5ms/step - loss: 2.1281\n",
      "Epoch 24/100\n",
      "124/124 [==============================] - 1s 5ms/step - loss: 1.8976\n",
      "Epoch 25/100\n",
      "124/124 [==============================] - 1s 5ms/step - loss: 1.7084\n",
      "Epoch 26/100\n",
      "124/124 [==============================] - 1s 6ms/step - loss: 1.5921\n",
      "Epoch 27/100\n",
      "124/124 [==============================] - 1s 5ms/step - loss: 1.4723\n",
      "Epoch 28/100\n",
      "124/124 [==============================] - 1s 5ms/step - loss: 1.3641\n",
      "Epoch 29/100\n",
      "124/124 [==============================] - 1s 5ms/step - loss: 1.3011\n",
      "Epoch 30/100\n",
      "124/124 [==============================] - 1s 6ms/step - loss: 1.2722\n",
      "Epoch 31/100\n",
      "124/124 [==============================] - 1s 5ms/step - loss: 1.2160\n",
      "Epoch 32/100\n",
      "124/124 [==============================] - 1s 5ms/step - loss: 1.1221\n",
      "Epoch 33/100\n",
      "124/124 [==============================] - 1s 5ms/step - loss: 1.1102\n",
      "Epoch 34/100\n",
      "124/124 [==============================] - 1s 6ms/step - loss: 1.0287\n",
      "Epoch 35/100\n",
      "124/124 [==============================] - 1s 5ms/step - loss: 1.0518\n",
      "Epoch 36/100\n",
      "124/124 [==============================] - 1s 5ms/step - loss: 1.0053\n",
      "Epoch 37/100\n",
      "124/124 [==============================] - 1s 5ms/step - loss: 0.9341\n",
      "Epoch 38/100\n",
      "124/124 [==============================] - 1s 6ms/step - loss: 0.9155\n",
      "Epoch 39/100\n",
      "124/124 [==============================] - 1s 5ms/step - loss: 0.8978\n",
      "Epoch 40/100\n",
      "124/124 [==============================] - 1s 5ms/step - loss: 0.9154\n",
      "Epoch 41/100\n",
      "124/124 [==============================] - 1s 5ms/step - loss: 0.8740\n",
      "Epoch 42/100\n",
      "124/124 [==============================] - 1s 6ms/step - loss: 0.8383\n",
      "Epoch 43/100\n",
      "124/124 [==============================] - 1s 6ms/step - loss: 0.8658\n",
      "Epoch 44/100\n",
      "124/124 [==============================] - 1s 5ms/step - loss: 0.8460\n",
      "Epoch 45/100\n",
      "124/124 [==============================] - 1s 5ms/step - loss: 0.8433\n",
      "Epoch 46/100\n",
      "124/124 [==============================] - 1s 6ms/step - loss: 0.8482\n",
      "Epoch 47/100\n",
      "124/124 [==============================] - 1s 5ms/step - loss: 0.8569\n",
      "Epoch 48/100\n",
      "124/124 [==============================] - 1s 5ms/step - loss: 0.8457\n",
      "Epoch 49/100\n",
      "124/124 [==============================] - 1s 6ms/step - loss: 0.8538\n",
      "Epoch 50/100\n",
      "124/124 [==============================] - 1s 6ms/step - loss: 0.8689\n",
      "Epoch 51/100\n",
      "124/124 [==============================] - 1s 5ms/step - loss: 0.8877\n",
      "Epoch 52/100\n",
      "124/124 [==============================] - 1s 6ms/step - loss: 0.8453\n",
      "Epoch 53/100\n",
      "124/124 [==============================] - 1s 5ms/step - loss: 0.8424\n",
      "Epoch 54/100\n",
      "124/124 [==============================] - 1s 6ms/step - loss: 0.8517\n",
      "Epoch 55/100\n",
      "124/124 [==============================] - 1s 5ms/step - loss: 0.8574\n",
      "Epoch 56/100\n",
      "124/124 [==============================] - 1s 5ms/step - loss: 0.8365\n",
      "Epoch 57/100\n",
      "124/124 [==============================] - 1s 5ms/step - loss: 0.8359\n",
      "Epoch 58/100\n",
      "124/124 [==============================] - 1s 6ms/step - loss: 0.8343\n",
      "Epoch 59/100\n",
      "124/124 [==============================] - 1s 5ms/step - loss: 0.8218\n",
      "Epoch 60/100\n",
      "124/124 [==============================] - 1s 6ms/step - loss: 0.8416\n",
      "Epoch 61/100\n",
      "124/124 [==============================] - 1s 5ms/step - loss: 0.8250\n",
      "Epoch 62/100\n",
      "124/124 [==============================] - 1s 6ms/step - loss: 0.8394\n",
      "Epoch 63/100\n",
      "124/124 [==============================] - 1s 5ms/step - loss: 0.8326\n",
      "Epoch 64/100\n",
      "124/124 [==============================] - 1s 5ms/step - loss: 0.8410\n",
      "Epoch 65/100\n",
      "124/124 [==============================] - 1s 6ms/step - loss: 0.8433\n",
      "Epoch 66/100\n",
      "124/124 [==============================] - 1s 6ms/step - loss: 0.8392\n",
      "Epoch 67/100\n",
      "124/124 [==============================] - 1s 6ms/step - loss: 0.8274\n",
      "Epoch 68/100\n",
      "124/124 [==============================] - 1s 5ms/step - loss: 0.8288\n",
      "Epoch 69/100\n",
      "124/124 [==============================] - 1s 6ms/step - loss: 0.8490\n",
      "Epoch 70/100\n",
      "124/124 [==============================] - 1s 6ms/step - loss: 0.8372\n",
      "Epoch 71/100\n",
      "124/124 [==============================] - 1s 5ms/step - loss: 0.8273\n",
      "Epoch 72/100\n",
      "124/124 [==============================] - 1s 5ms/step - loss: 0.8466\n",
      "Epoch 73/100\n",
      "124/124 [==============================] - 1s 6ms/step - loss: 0.8556\n",
      "Epoch 74/100\n",
      "124/124 [==============================] - 1s 6ms/step - loss: 0.8429\n",
      "Epoch 75/100\n",
      "124/124 [==============================] - 1s 6ms/step - loss: 0.8311\n",
      "Epoch 76/100\n",
      "124/124 [==============================] - 1s 6ms/step - loss: 0.8193\n",
      "Epoch 77/100\n",
      "124/124 [==============================] - 1s 6ms/step - loss: 0.8274\n",
      "Epoch 78/100\n",
      "124/124 [==============================] - 1s 5ms/step - loss: 0.8540\n",
      "Epoch 79/100\n",
      "124/124 [==============================] - 1s 6ms/step - loss: 0.8675\n",
      "Epoch 80/100\n",
      "124/124 [==============================] - 1s 6ms/step - loss: 0.8427\n",
      "Epoch 81/100\n",
      "124/124 [==============================] - 1s 6ms/step - loss: 0.8838\n",
      "Epoch 82/100\n",
      "124/124 [==============================] - 1s 5ms/step - loss: 0.8681\n",
      "Epoch 83/100\n",
      "124/124 [==============================] - 1s 5ms/step - loss: 0.8683\n",
      "Epoch 84/100\n",
      "124/124 [==============================] - 1s 5ms/step - loss: 0.9382\n",
      "Epoch 85/100\n",
      "124/124 [==============================] - 1s 6ms/step - loss: 0.8349\n",
      "Epoch 86/100\n",
      "124/124 [==============================] - 1s 6ms/step - loss: 0.8458\n",
      "Epoch 87/100\n",
      "124/124 [==============================] - 1s 6ms/step - loss: 0.8306\n",
      "Epoch 88/100\n",
      "124/124 [==============================] - 1s 6ms/step - loss: 0.8220\n",
      "Epoch 89/100\n",
      "124/124 [==============================] - 1s 6ms/step - loss: 1.0256\n",
      "Epoch 90/100\n",
      "124/124 [==============================] - 1s 6ms/step - loss: 0.9344\n",
      "Epoch 91/100\n",
      "124/124 [==============================] - 1s 6ms/step - loss: 0.8625\n",
      "Epoch 92/100\n",
      "124/124 [==============================] - 1s 6ms/step - loss: 0.8350\n",
      "Epoch 93/100\n",
      "124/124 [==============================] - 1s 5ms/step - loss: 0.9708\n",
      "Epoch 94/100\n",
      "124/124 [==============================] - 1s 6ms/step - loss: 0.8280\n",
      "Epoch 95/100\n",
      "124/124 [==============================] - 1s 6ms/step - loss: 0.8561\n",
      "Epoch 96/100\n",
      "124/124 [==============================] - 1s 6ms/step - loss: 0.9571\n",
      "Epoch 97/100\n",
      "124/124 [==============================] - 1s 6ms/step - loss: 0.8362\n",
      "Epoch 98/100\n",
      "124/124 [==============================] - 1s 6ms/step - loss: 0.9268\n",
      "Epoch 99/100\n",
      "124/124 [==============================] - 1s 6ms/step - loss: 0.9811\n",
      "Epoch 100/100\n",
      "124/124 [==============================] - 1s 6ms/step - loss: 0.8817\n"
     ]
    }
   ],
   "source": [
    "history = model.fit(XT, yT, epochs=100, batch_size=20)"
   ]
  },
  {
   "cell_type": "code",
   "execution_count": 21,
   "metadata": {},
   "outputs": [
    {
     "name": "stdout",
     "output_type": "stream",
     "text": [
      "16/16 [==============================] - 0s 4ms/step - loss: 11.0254\n"
     ]
    },
    {
     "data": {
      "text/plain": [
       "11.025364875793457"
      ]
     },
     "execution_count": 21,
     "metadata": {},
     "output_type": "execute_result"
    },
    {
     "ename": "",
     "evalue": "",
     "output_type": "error",
     "traceback": [
      "\u001b[1;31mThe Kernel crashed while executing code in the current cell or a previous cell. \n",
      "\u001b[1;31mPlease review the code in the cell(s) to identify a possible cause of the failure. \n",
      "\u001b[1;31mClick <a href='https://aka.ms/vscodeJupyterKernelCrash'>here</a> for more info. \n",
      "\u001b[1;31mView Jupyter <a href='command:jupyter.viewOutput'>log</a> for further details."
     ]
    }
   ],
   "source": [
    "model.evaluate(Xt, yt)"
   ]
  },
  {
   "cell_type": "code",
   "execution_count": 19,
   "metadata": {},
   "outputs": [
    {
     "name": "stdout",
     "output_type": "stream",
     "text": [
      "78/78 [==============================] - 1s 3ms/step\n",
      "16/16 [==============================] - 0s 3ms/step\n"
     ]
    }
   ],
   "source": [
    "XTPredicted = model.predict(XT)\n",
    "XtPredicted = model.predict(Xt)\n",
    "XFinal = np.concatenate([XTPredicted, XtPredicted], axis=0)"
   ]
  },
  {
   "cell_type": "code",
   "execution_count": 20,
   "metadata": {},
   "outputs": [
    {
     "data": {
      "text/plain": [
       "[<matplotlib.lines.Line2D at 0x2ca4bda6350>]"
      ]
     },
     "execution_count": 20,
     "metadata": {},
     "output_type": "execute_result"
    },
    {
     "data": {
      "image/png": "[encoded data removed]",
      "text/plain": [
       "<Figure size 640x480 with 1 Axes>"
      ]
     },
     "metadata": {},
     "output_type": "display_data"
    }
   ],
   "source": [
    "plt.plot(X, color='red')\n",
    "plt.plot(XFinal, color='blue')"
   ]
  }
 ],
 "metadata": {
  "kernelspec": {
   "display_name": "Python 3",
   "language": "python",
   "name": "python3"
  },
  "language_info": {
   "codemirror_mode": {
    "name": "ipython",
    "version": 3
   },
   "file_extension": ".py",
   "mimetype": "text/x-python",
   "name": "python",
   "nbconvert_exporter": "python",
   "pygments_lexer": "ipython3",
   "version": "3.11.8"
  }
 },
 "nbformat": 4,
 "nbformat_minor": 4
}
