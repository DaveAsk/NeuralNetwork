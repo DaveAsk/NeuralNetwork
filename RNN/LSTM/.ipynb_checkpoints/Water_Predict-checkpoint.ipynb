{
 "cells": [
  {
   "cell_type": "code",
   "execution_count": 1,
   "metadata": {},
   "outputs": [
    {
     "name": "stdout",
     "output_type": "stream",
     "text": [
      "WARNING:tensorflow:From C:\\Users\\David\\AppData\\Local\\Packages\\PythonSoftwareFoundation.Python.3.11_qbz5n2kfra8p0\\LocalCache\\local-packages\\Python311\\site-packages\\keras\\src\\losses.py:2976: The name tf.losses.sparse_softmax_cross_entropy is deprecated. Please use tf.compat.v1.losses.sparse_softmax_cross_entropy instead.\n",
      "\n"
     ]
    }
   ],
   "source": [
    "import numpy as np\n",
    "import pandas as pd\n",
    "import tensorflow as tf\n",
    "from tensorflow.keras.models import Sequential\n",
    "from tensorflow.keras.layers import LSTM, Dense\n",
    "from sklearn.preprocessing import MinMaxScaler"
   ]
  },
  {
   "cell_type": "code",
   "execution_count": 3,
   "metadata": {},
   "outputs": [],
   "source": [
    "# بارگیری داده‌ها\n",
    "data = pd.read_csv('water_consumption.csv')"
   ]
  },
  {
   "cell_type": "code",
   "execution_count": 4,
   "metadata": {},
   "outputs": [],
   "source": [
    "# تبدیل ستون timestamp به تاریخ‌های معتبر\n",
    "data['timestamp'] = pd.to_datetime(data['timestamp'])"
   ]
  },
  {
   "cell_type": "code",
   "execution_count": 5,
   "metadata": {},
   "outputs": [],
   "source": [
    "# حذف ستون‌های اضافی مانند campus_id و meter_id اگر نیاز دارید\n",
    "data.drop(['campus_id', 'meter_id'], axis=1, inplace=True)"
   ]
  },
  {
   "cell_type": "code",
   "execution_count": 6,
   "metadata": {},
   "outputs": [],
   "source": [
    "# تبدیل داده‌ها به آرایه numpy\n",
    "dataset = data['consumption'].values\n",
    "dataset = dataset.reshape(-1, 1)"
   ]
  },
  {
   "cell_type": "code",
   "execution_count": 7,
   "metadata": {},
   "outputs": [],
   "source": [
    "# مقیاس‌بندی داده‌ها\n",
    "scaler = MinMaxScaler(feature_range=(0, 1))\n",
    "dataset_scaled = scaler.fit_transform(dataset)"
   ]
  },
  {
   "cell_type": "code",
   "execution_count": 8,
   "metadata": {},
   "outputs": [],
   "source": [
    "# تقسیم داده به داده‌های آموزشی و آزمون\n",
    "train_size = int(len(dataset_scaled) * 0.8)\n",
    "test_size = len(dataset_scaled) - train_size\n",
    "train_data, test_data = dataset_scaled[0:train_size,:], dataset_scaled[train_size:len(dataset_scaled),:]"
   ]
  },
  {
   "cell_type": "code",
   "execution_count": 9,
   "metadata": {},
   "outputs": [],
   "source": [
    "# تبدیل داده به فرمت مناسب برای LSTM\n",
    "def create_dataset(dataset, time_step):\n",
    "    X, Y = [], []\n",
    "    for i in range(len(dataset)-time_step-1):\n",
    "        a = dataset[i:(i+time_step), 0]\n",
    "        X.append(a)\n",
    "        Y.append(dataset[i + time_step, 0])\n",
    "    return np.array(X), np.array(Y)"
   ]
  },
  {
   "cell_type": "code",
   "execution_count": 10,
   "metadata": {},
   "outputs": [],
   "source": [
    "time_step = 20\n",
    "X_train, Y_train = create_dataset(train_data, time_step)\n",
    "X_test, Y_test = create_dataset(test_data, time_step)"
   ]
  },
  {
   "cell_type": "code",
   "execution_count": 11,
   "metadata": {},
   "outputs": [],
   "source": [
    "# تغییر شکل داده‌ها برای ورودی LSTM\n",
    "X_train = X_train.reshape(X_train.shape[0], X_train.shape[1], 1)\n",
    "X_test = X_test.reshape(X_test.shape[0], X_test.shape[1], 1)"
   ]
  },
  {
   "cell_type": "code",
   "execution_count": 12,
   "metadata": {},
   "outputs": [
    {
     "name": "stdout",
     "output_type": "stream",
     "text": [
      "WARNING:tensorflow:From C:\\Users\\David\\AppData\\Local\\Packages\\PythonSoftwareFoundation.Python.3.11_qbz5n2kfra8p0\\LocalCache\\local-packages\\Python311\\site-packages\\keras\\src\\backend.py:873: The name tf.get_default_graph is deprecated. Please use tf.compat.v1.get_default_graph instead.\n",
      "\n"
     ]
    }
   ],
   "source": [
    "# ساخت مدل LSTM\n",
    "model = Sequential()\n",
    "model.add(LSTM(units=50, return_sequences=True, input_shape=(time_step, 1)))\n",
    "model.add(LSTM(units=50))\n",
    "model.add(Dense(units=1))"
   ]
  },
  {
   "cell_type": "code",
   "execution_count": 13,
   "metadata": {},
   "outputs": [
    {
     "name": "stdout",
     "output_type": "stream",
     "text": [
      "WARNING:tensorflow:From C:\\Users\\David\\AppData\\Local\\Packages\\PythonSoftwareFoundation.Python.3.11_qbz5n2kfra8p0\\LocalCache\\local-packages\\Python311\\site-packages\\keras\\src\\optimizers\\__init__.py:309: The name tf.train.Optimizer is deprecated. Please use tf.compat.v1.train.Optimizer instead.\n",
      "\n"
     ]
    }
   ],
   "source": [
    "# کامپایل مدل\n",
    "model.compile(optimizer='adam', loss='mean_squared_error')"
   ]
  },
  {
   "cell_type": "code",
   "execution_count": 14,
   "metadata": {},
   "outputs": [
    {
     "name": "stdout",
     "output_type": "stream",
     "text": [
      "Epoch 1/100\n",
      "WARNING:tensorflow:From C:\\Users\\David\\AppData\\Local\\Packages\\PythonSoftwareFoundation.Python.3.11_qbz5n2kfra8p0\\LocalCache\\local-packages\\Python311\\site-packages\\keras\\src\\utils\\tf_utils.py:492: The name tf.ragged.RaggedTensorValue is deprecated. Please use tf.compat.v1.ragged.RaggedTensorValue instead.\n",
      "\n",
      "6126/6126 [==============================] - 109s 17ms/step - loss: nan\n",
      "Epoch 2/100\n",
      "6126/6126 [==============================] - 106s 17ms/step - loss: nan\n",
      "Epoch 3/100\n",
      "6126/6126 [==============================] - 106s 17ms/step - loss: nan\n",
      "Epoch 4/100\n",
      "6126/6126 [==============================] - 103s 17ms/step - loss: nan\n",
      "Epoch 5/100\n",
      "6126/6126 [==============================] - 101s 17ms/step - loss: nan\n",
      "Epoch 6/100\n",
      "6126/6126 [==============================] - 102s 17ms/step - loss: nan\n",
      "Epoch 7/100\n",
      "6126/6126 [==============================] - 103s 17ms/step - loss: nan\n",
      "Epoch 8/100\n",
      "6126/6126 [==============================] - 103s 17ms/step - loss: nan\n",
      "Epoch 9/100\n",
      "6126/6126 [==============================] - 104s 17ms/step - loss: nan\n",
      "Epoch 10/100\n",
      "6126/6126 [==============================] - 104s 17ms/step - loss: nan\n",
      "Epoch 11/100\n",
      "6126/6126 [==============================] - 104s 17ms/step - loss: nan\n",
      "Epoch 12/100\n",
      "6126/6126 [==============================] - 107s 17ms/step - loss: nan\n",
      "Epoch 13/100\n",
      "6126/6126 [==============================] - 104s 17ms/step - loss: nan\n",
      "Epoch 14/100\n",
      "6126/6126 [==============================] - 104s 17ms/step - loss: nan\n",
      "Epoch 15/100\n",
      "6126/6126 [==============================] - 104s 17ms/step - loss: nan\n",
      "Epoch 16/100\n",
      "6126/6126 [==============================] - 104s 17ms/step - loss: nan\n",
      "Epoch 17/100\n",
      "6126/6126 [==============================] - 103s 17ms/step - loss: nan\n",
      "Epoch 18/100\n",
      "6126/6126 [==============================] - 104s 17ms/step - loss: nan\n",
      "Epoch 19/100\n",
      "6126/6126 [==============================] - 104s 17ms/step - loss: nan\n",
      "Epoch 20/100\n",
      "6126/6126 [==============================] - 105s 17ms/step - loss: nan\n",
      "Epoch 21/100\n",
      "6126/6126 [==============================] - 105s 17ms/step - loss: nan\n",
      "Epoch 22/100\n",
      "6126/6126 [==============================] - 105s 17ms/step - loss: nan\n",
      "Epoch 23/100\n",
      "6126/6126 [==============================] - 115s 19ms/step - loss: nan\n",
      "Epoch 24/100\n",
      "6126/6126 [==============================] - 106s 17ms/step - loss: nan\n",
      "Epoch 25/100\n",
      "6126/6126 [==============================] - 107s 18ms/step - loss: nan\n",
      "Epoch 26/100\n",
      "6126/6126 [==============================] - 103s 17ms/step - loss: nan\n",
      "Epoch 27/100\n",
      "6126/6126 [==============================] - 101s 17ms/step - loss: nan\n",
      "Epoch 28/100\n",
      "6126/6126 [==============================] - 103s 17ms/step - loss: nan\n",
      "Epoch 29/100\n",
      "6126/6126 [==============================] - 103s 17ms/step - loss: nan\n",
      "Epoch 30/100\n",
      "6126/6126 [==============================] - 101s 17ms/step - loss: nan\n",
      "Epoch 31/100\n",
      "6126/6126 [==============================] - 102s 17ms/step - loss: nan\n",
      "Epoch 32/100\n",
      "6126/6126 [==============================] - 101s 17ms/step - loss: nan\n",
      "Epoch 33/100\n",
      "6126/6126 [==============================] - 101s 17ms/step - loss: nan\n",
      "Epoch 34/100\n",
      "6126/6126 [==============================] - 102s 17ms/step - loss: nan\n",
      "Epoch 35/100\n",
      "6126/6126 [==============================] - 102s 17ms/step - loss: nan\n",
      "Epoch 36/100\n",
      "6126/6126 [==============================] - 101s 17ms/step - loss: nan\n",
      "Epoch 37/100\n",
      "6126/6126 [==============================] - 101s 16ms/step - loss: nan\n",
      "Epoch 38/100\n",
      "6126/6126 [==============================] - 101s 16ms/step - loss: nan\n",
      "Epoch 39/100\n",
      "6126/6126 [==============================] - 100s 16ms/step - loss: nan\n",
      "Epoch 40/100\n",
      "6126/6126 [==============================] - 100s 16ms/step - loss: nan\n",
      "Epoch 41/100\n",
      "6126/6126 [==============================] - 100s 16ms/step - loss: nan\n",
      "Epoch 42/100\n",
      "6126/6126 [==============================] - 101s 17ms/step - loss: nan\n",
      "Epoch 43/100\n",
      "6126/6126 [==============================] - 101s 16ms/step - loss: nan\n",
      "Epoch 44/100\n",
      "6126/6126 [==============================] - 100s 16ms/step - loss: nan\n",
      "Epoch 45/100\n",
      "6126/6126 [==============================] - 101s 16ms/step - loss: nan\n",
      "Epoch 46/100\n",
      "6126/6126 [==============================] - 101s 16ms/step - loss: nan\n",
      "Epoch 47/100\n",
      "6126/6126 [==============================] - 100s 16ms/step - loss: nan\n",
      "Epoch 48/100\n",
      "6126/6126 [==============================] - 100s 16ms/step - loss: nan\n",
      "Epoch 49/100\n",
      "6126/6126 [==============================] - 100s 16ms/step - loss: nan\n",
      "Epoch 50/100\n",
      "6126/6126 [==============================] - 100s 16ms/step - loss: nan\n",
      "Epoch 51/100\n",
      "6126/6126 [==============================] - 100s 16ms/step - loss: nan\n",
      "Epoch 52/100\n",
      "6126/6126 [==============================] - 101s 16ms/step - loss: nan\n",
      "Epoch 53/100\n",
      "6126/6126 [==============================] - 100s 16ms/step - loss: nan\n",
      "Epoch 54/100\n",
      "6126/6126 [==============================] - 100s 16ms/step - loss: nan\n",
      "Epoch 55/100\n",
      "6126/6126 [==============================] - 101s 17ms/step - loss: nan\n",
      "Epoch 56/100\n",
      "6126/6126 [==============================] - 100s 16ms/step - loss: nan\n",
      "Epoch 57/100\n",
      "6126/6126 [==============================] - 100s 16ms/step - loss: nan\n",
      "Epoch 58/100\n",
      "6126/6126 [==============================] - 101s 16ms/step - loss: nan\n",
      "Epoch 59/100\n",
      "6126/6126 [==============================] - 101s 16ms/step - loss: nan\n",
      "Epoch 60/100\n",
      "6126/6126 [==============================] - 100s 16ms/step - loss: nan\n",
      "Epoch 61/100\n",
      "6126/6126 [==============================] - 100s 16ms/step - loss: nan\n",
      "Epoch 62/100\n",
      "6126/6126 [==============================] - 101s 17ms/step - loss: nan\n",
      "Epoch 63/100\n",
      "6126/6126 [==============================] - 101s 16ms/step - loss: nan\n",
      "Epoch 64/100\n",
      "6126/6126 [==============================] - 102s 17ms/step - loss: nan\n",
      "Epoch 65/100\n",
      "6126/6126 [==============================] - 103s 17ms/step - loss: nan\n",
      "Epoch 66/100\n",
      "6126/6126 [==============================] - 101s 17ms/step - loss: nan\n",
      "Epoch 67/100\n",
      "6126/6126 [==============================] - 101s 16ms/step - loss: nan\n",
      "Epoch 68/100\n",
      "6126/6126 [==============================] - 101s 17ms/step - loss: nan\n",
      "Epoch 69/100\n",
      "6126/6126 [==============================] - 101s 17ms/step - loss: nan\n",
      "Epoch 70/100\n",
      "6126/6126 [==============================] - 101s 16ms/step - loss: nan\n",
      "Epoch 71/100\n",
      "6126/6126 [==============================] - 101s 16ms/step - loss: nan\n",
      "Epoch 72/100\n",
      "6126/6126 [==============================] - 102s 17ms/step - loss: nan\n",
      "Epoch 73/100\n",
      "6126/6126 [==============================] - 102s 17ms/step - loss: nan\n",
      "Epoch 74/100\n",
      "6126/6126 [==============================] - 102s 17ms/step - loss: nan\n",
      "Epoch 75/100\n",
      "6126/6126 [==============================] - 106s 17ms/step - loss: nan\n",
      "Epoch 76/100\n",
      "6126/6126 [==============================] - 106s 17ms/step - loss: nan\n",
      "Epoch 77/100\n",
      "6126/6126 [==============================] - 108s 18ms/step - loss: nan\n",
      "Epoch 78/100\n",
      "6126/6126 [==============================] - 107s 18ms/step - loss: nan\n",
      "Epoch 79/100\n",
      "6126/6126 [==============================] - 103s 17ms/step - loss: nan\n",
      "Epoch 80/100\n",
      "6126/6126 [==============================] - 105s 17ms/step - loss: nan\n",
      "Epoch 81/100\n",
      "6126/6126 [==============================] - 104s 17ms/step - loss: nan\n",
      "Epoch 82/100\n",
      "6126/6126 [==============================] - 103s 17ms/step - loss: nan\n",
      "Epoch 83/100\n",
      "6126/6126 [==============================] - 102s 17ms/step - loss: nan\n",
      "Epoch 84/100\n",
      "6126/6126 [==============================] - 102s 17ms/step - loss: nan\n",
      "Epoch 85/100\n",
      "6126/6126 [==============================] - 102s 17ms/step - loss: nan\n",
      "Epoch 86/100\n",
      "6126/6126 [==============================] - 101s 16ms/step - loss: nan\n",
      "Epoch 87/100\n",
      "6126/6126 [==============================] - 101s 16ms/step - loss: nan\n",
      "Epoch 88/100\n",
      "6126/6126 [==============================] - 101s 16ms/step - loss: nan\n",
      "Epoch 89/100\n",
      "6126/6126 [==============================] - 100s 16ms/step - loss: nan\n",
      "Epoch 90/100\n",
      "6126/6126 [==============================] - 102s 17ms/step - loss: nan\n",
      "Epoch 91/100\n",
      "6126/6126 [==============================] - 105s 17ms/step - loss: nan\n",
      "Epoch 92/100\n",
      "6126/6126 [==============================] - 102s 17ms/step - loss: nan\n",
      "Epoch 93/100\n",
      "6126/6126 [==============================] - 102s 17ms/step - loss: nan\n",
      "Epoch 94/100\n",
      "6126/6126 [==============================] - 101s 17ms/step - loss: nan\n",
      "Epoch 95/100\n",
      "6126/6126 [==============================] - 102s 17ms/step - loss: nan\n",
      "Epoch 96/100\n",
      "6126/6126 [==============================] - 101s 16ms/step - loss: nan\n",
      "Epoch 97/100\n",
      "6126/6126 [==============================] - 101s 16ms/step - loss: nan\n",
      "Epoch 98/100\n",
      "6126/6126 [==============================] - 101s 17ms/step - loss: nan\n",
      "Epoch 99/100\n",
      "6126/6126 [==============================] - 102s 17ms/step - loss: nan\n",
      "Epoch 100/100\n",
      "6126/6126 [==============================] - 105s 17ms/step - loss: nan\n"
     ]
    },
    {
     "data": {
      "text/plain": [
       "<keras.src.callbacks.History at 0x19304e67e50>"
      ]
     },
     "execution_count": 14,
     "metadata": {},
     "output_type": "execute_result"
    }
   ],
   "source": [
    "# آموزش مدل\n",
    "model.fit(X_train, Y_train, epochs=100, batch_size=32)"
   ]
  },
  {
   "cell_type": "code",
   "execution_count": 15,
   "metadata": {},
   "outputs": [
    {
     "name": "stdout",
     "output_type": "stream",
     "text": [
      "6126/6126 [==============================] - 43s 7ms/step\n",
      "1531/1531 [==============================] - 10s 7ms/step\n"
     ]
    }
   ],
   "source": [
    "# پیش‌بینی مصرف در زمان‌های آینده\n",
    "train_predict = model.predict(X_train)\n",
    "test_predict = model.predict(X_test)"
   ]
  },
  {
   "cell_type": "code",
   "execution_count": 19,
   "metadata": {},
   "outputs": [],
   "source": [
    "# بازگرداندن داده‌ها به مقیاس اصلی\n",
    "# بازگرداندن داده‌ها به مقیاس اصلی\n",
    "train_predict = scaler.inverse_transform(train_predict)\n",
    "Y_train = Y_train.flatten()\n",
    "Y_train = scaler.inverse_transform([Y_train])\n",
    "test_predict = scaler.inverse_transform(test_predict)\n",
    "Y_test = Y_test.flatten()\n",
    "Y_test = scaler.inverse_transform([Y_test])\n"
   ]
  },
  {
   "cell_type": "code",
   "execution_count": null,
   "metadata": {},
   "outputs": [],
   "source": [
    "import numpy as np\n",
    "from sklearn.metrics import mean_squared_error\n",
    "\n",
    "# Check for NaN values in Y_train and Y_test\n",
    "if np.isnan(Y_train).any() or np.isnan(Y_test).any():\n",
    "    print(\"Input data contains NaN values. Please handle missing or corrupt data.\")\n",
    "else:\n",
    "    # Calculate RMSE if there are no NaN values\n",
    "    train_rmse = np.sqrt(mean_squared_error(Y_train[0], train_predict[:,0]))\n",
    "    test_rmse = np.sqrt(mean_squared_error(Y_test[0], test_predict[:,0]))\n",
    "\n",
    "    print(\"Train RMSE:\", train_rmse)\n",
    "    print(\"Test RMSE:\", test_rmse)\n"
   ]
  },
  {
   "cell_type": "code",
   "execution_count": 20,
   "metadata": {},
   "outputs": [
    {
     "ename": "ValueError",
     "evalue": "Input contains NaN.",
     "output_type": "error",
     "traceback": [
      "\u001b[1;31m---------------------------------------------------------------------------\u001b[0m",
      "\u001b[1;31mValueError\u001b[0m                                Traceback (most recent call last)",
      "Cell \u001b[1;32mIn[20], line 3\u001b[0m\n\u001b[0;32m      1\u001b[0m \u001b[38;5;66;03m# محاسبه معیارهای عملکرد مدل مانند MSE یا RMSE\u001b[39;00m\n\u001b[0;32m      2\u001b[0m \u001b[38;5;28;01mfrom\u001b[39;00m \u001b[38;5;21;01msklearn\u001b[39;00m\u001b[38;5;21;01m.\u001b[39;00m\u001b[38;5;21;01mmetrics\u001b[39;00m \u001b[38;5;28;01mimport\u001b[39;00m mean_squared_error\n\u001b[1;32m----> 3\u001b[0m train_rmse \u001b[38;5;241m=\u001b[39m np\u001b[38;5;241m.\u001b[39msqrt(\u001b[43mmean_squared_error\u001b[49m\u001b[43m(\u001b[49m\u001b[43mY_train\u001b[49m\u001b[43m[\u001b[49m\u001b[38;5;241;43m0\u001b[39;49m\u001b[43m]\u001b[49m\u001b[43m,\u001b[49m\u001b[43m \u001b[49m\u001b[43mtrain_predict\u001b[49m\u001b[43m[\u001b[49m\u001b[43m:\u001b[49m\u001b[43m,\u001b[49m\u001b[38;5;241;43m0\u001b[39;49m\u001b[43m]\u001b[49m\u001b[43m)\u001b[49m)\n\u001b[0;32m      4\u001b[0m test_rmse \u001b[38;5;241m=\u001b[39m np\u001b[38;5;241m.\u001b[39msqrt(mean_squared_error(Y_test[\u001b[38;5;241m0\u001b[39m], test_predict[:,\u001b[38;5;241m0\u001b[39m]))\n\u001b[0;32m      6\u001b[0m \u001b[38;5;28mprint\u001b[39m(\u001b[38;5;124m\"\u001b[39m\u001b[38;5;124mTrain RMSE:\u001b[39m\u001b[38;5;124m\"\u001b[39m, train_rmse)\n",
      "File \u001b[1;32m~\\AppData\\Local\\Packages\\PythonSoftwareFoundation.Python.3.11_qbz5n2kfra8p0\\LocalCache\\local-packages\\Python311\\site-packages\\sklearn\\utils\\_param_validation.py:214\u001b[0m, in \u001b[0;36mvalidate_params.<locals>.decorator.<locals>.wrapper\u001b[1;34m(*args, **kwargs)\u001b[0m\n\u001b[0;32m    208\u001b[0m \u001b[38;5;28;01mtry\u001b[39;00m:\n\u001b[0;32m    209\u001b[0m     \u001b[38;5;28;01mwith\u001b[39;00m config_context(\n\u001b[0;32m    210\u001b[0m         skip_parameter_validation\u001b[38;5;241m=\u001b[39m(\n\u001b[0;32m    211\u001b[0m             prefer_skip_nested_validation \u001b[38;5;129;01mor\u001b[39;00m global_skip_validation\n\u001b[0;32m    212\u001b[0m         )\n\u001b[0;32m    213\u001b[0m     ):\n\u001b[1;32m--> 214\u001b[0m         \u001b[38;5;28;01mreturn\u001b[39;00m \u001b[43mfunc\u001b[49m\u001b[43m(\u001b[49m\u001b[38;5;241;43m*\u001b[39;49m\u001b[43margs\u001b[49m\u001b[43m,\u001b[49m\u001b[43m \u001b[49m\u001b[38;5;241;43m*\u001b[39;49m\u001b[38;5;241;43m*\u001b[39;49m\u001b[43mkwargs\u001b[49m\u001b[43m)\u001b[49m\n\u001b[0;32m    215\u001b[0m \u001b[38;5;28;01mexcept\u001b[39;00m InvalidParameterError \u001b[38;5;28;01mas\u001b[39;00m e:\n\u001b[0;32m    216\u001b[0m     \u001b[38;5;66;03m# When the function is just a wrapper around an estimator, we allow\u001b[39;00m\n\u001b[0;32m    217\u001b[0m     \u001b[38;5;66;03m# the function to delegate validation to the estimator, but we replace\u001b[39;00m\n\u001b[0;32m    218\u001b[0m     \u001b[38;5;66;03m# the name of the estimator by the name of the function in the error\u001b[39;00m\n\u001b[0;32m    219\u001b[0m     \u001b[38;5;66;03m# message to avoid confusion.\u001b[39;00m\n\u001b[0;32m    220\u001b[0m     msg \u001b[38;5;241m=\u001b[39m re\u001b[38;5;241m.\u001b[39msub(\n\u001b[0;32m    221\u001b[0m         \u001b[38;5;124mr\u001b[39m\u001b[38;5;124m\"\u001b[39m\u001b[38;5;124mparameter of \u001b[39m\u001b[38;5;124m\\\u001b[39m\u001b[38;5;124mw+ must be\u001b[39m\u001b[38;5;124m\"\u001b[39m,\n\u001b[0;32m    222\u001b[0m         \u001b[38;5;124mf\u001b[39m\u001b[38;5;124m\"\u001b[39m\u001b[38;5;124mparameter of \u001b[39m\u001b[38;5;132;01m{\u001b[39;00mfunc\u001b[38;5;241m.\u001b[39m\u001b[38;5;18m__qualname__\u001b[39m\u001b[38;5;132;01m}\u001b[39;00m\u001b[38;5;124m must be\u001b[39m\u001b[38;5;124m\"\u001b[39m,\n\u001b[0;32m    223\u001b[0m         \u001b[38;5;28mstr\u001b[39m(e),\n\u001b[0;32m    224\u001b[0m     )\n",
      "File \u001b[1;32m~\\AppData\\Local\\Packages\\PythonSoftwareFoundation.Python.3.11_qbz5n2kfra8p0\\LocalCache\\local-packages\\Python311\\site-packages\\sklearn\\metrics\\_regression.py:474\u001b[0m, in \u001b[0;36mmean_squared_error\u001b[1;34m(y_true, y_pred, sample_weight, multioutput, squared)\u001b[0m\n\u001b[0;32m    404\u001b[0m \u001b[38;5;129m@validate_params\u001b[39m(\n\u001b[0;32m    405\u001b[0m     {\n\u001b[0;32m    406\u001b[0m         \u001b[38;5;124m\"\u001b[39m\u001b[38;5;124my_true\u001b[39m\u001b[38;5;124m\"\u001b[39m: [\u001b[38;5;124m\"\u001b[39m\u001b[38;5;124marray-like\u001b[39m\u001b[38;5;124m\"\u001b[39m],\n\u001b[1;32m   (...)\u001b[0m\n\u001b[0;32m    415\u001b[0m     y_true, y_pred, \u001b[38;5;241m*\u001b[39m, sample_weight\u001b[38;5;241m=\u001b[39m\u001b[38;5;28;01mNone\u001b[39;00m, multioutput\u001b[38;5;241m=\u001b[39m\u001b[38;5;124m\"\u001b[39m\u001b[38;5;124muniform_average\u001b[39m\u001b[38;5;124m\"\u001b[39m, squared\u001b[38;5;241m=\u001b[39m\u001b[38;5;28;01mTrue\u001b[39;00m\n\u001b[0;32m    416\u001b[0m ):\n\u001b[0;32m    417\u001b[0m \u001b[38;5;250m    \u001b[39m\u001b[38;5;124;03m\"\"\"Mean squared error regression loss.\u001b[39;00m\n\u001b[0;32m    418\u001b[0m \n\u001b[0;32m    419\u001b[0m \u001b[38;5;124;03m    Read more in the :ref:`User Guide <mean_squared_error>`.\u001b[39;00m\n\u001b[1;32m   (...)\u001b[0m\n\u001b[0;32m    472\u001b[0m \u001b[38;5;124;03m    0.825...\u001b[39;00m\n\u001b[0;32m    473\u001b[0m \u001b[38;5;124;03m    \"\"\"\u001b[39;00m\n\u001b[1;32m--> 474\u001b[0m     y_type, y_true, y_pred, multioutput \u001b[38;5;241m=\u001b[39m \u001b[43m_check_reg_targets\u001b[49m\u001b[43m(\u001b[49m\n\u001b[0;32m    475\u001b[0m \u001b[43m        \u001b[49m\u001b[43my_true\u001b[49m\u001b[43m,\u001b[49m\u001b[43m \u001b[49m\u001b[43my_pred\u001b[49m\u001b[43m,\u001b[49m\u001b[43m \u001b[49m\u001b[43mmultioutput\u001b[49m\n\u001b[0;32m    476\u001b[0m \u001b[43m    \u001b[49m\u001b[43m)\u001b[49m\n\u001b[0;32m    477\u001b[0m     check_consistent_length(y_true, y_pred, sample_weight)\n\u001b[0;32m    478\u001b[0m     output_errors \u001b[38;5;241m=\u001b[39m np\u001b[38;5;241m.\u001b[39maverage((y_true \u001b[38;5;241m-\u001b[39m y_pred) \u001b[38;5;241m*\u001b[39m\u001b[38;5;241m*\u001b[39m \u001b[38;5;241m2\u001b[39m, axis\u001b[38;5;241m=\u001b[39m\u001b[38;5;241m0\u001b[39m, weights\u001b[38;5;241m=\u001b[39msample_weight)\n",
      "File \u001b[1;32m~\\AppData\\Local\\Packages\\PythonSoftwareFoundation.Python.3.11_qbz5n2kfra8p0\\LocalCache\\local-packages\\Python311\\site-packages\\sklearn\\metrics\\_regression.py:100\u001b[0m, in \u001b[0;36m_check_reg_targets\u001b[1;34m(y_true, y_pred, multioutput, dtype)\u001b[0m\n\u001b[0;32m     66\u001b[0m \u001b[38;5;250m\u001b[39m\u001b[38;5;124;03m\"\"\"Check that y_true and y_pred belong to the same regression task.\u001b[39;00m\n\u001b[0;32m     67\u001b[0m \n\u001b[0;32m     68\u001b[0m \u001b[38;5;124;03mParameters\u001b[39;00m\n\u001b[1;32m   (...)\u001b[0m\n\u001b[0;32m     97\u001b[0m \u001b[38;5;124;03m    correct keyword.\u001b[39;00m\n\u001b[0;32m     98\u001b[0m \u001b[38;5;124;03m\"\"\"\u001b[39;00m\n\u001b[0;32m     99\u001b[0m check_consistent_length(y_true, y_pred)\n\u001b[1;32m--> 100\u001b[0m y_true \u001b[38;5;241m=\u001b[39m \u001b[43mcheck_array\u001b[49m\u001b[43m(\u001b[49m\u001b[43my_true\u001b[49m\u001b[43m,\u001b[49m\u001b[43m \u001b[49m\u001b[43mensure_2d\u001b[49m\u001b[38;5;241;43m=\u001b[39;49m\u001b[38;5;28;43;01mFalse\u001b[39;49;00m\u001b[43m,\u001b[49m\u001b[43m \u001b[49m\u001b[43mdtype\u001b[49m\u001b[38;5;241;43m=\u001b[39;49m\u001b[43mdtype\u001b[49m\u001b[43m)\u001b[49m\n\u001b[0;32m    101\u001b[0m y_pred \u001b[38;5;241m=\u001b[39m check_array(y_pred, ensure_2d\u001b[38;5;241m=\u001b[39m\u001b[38;5;28;01mFalse\u001b[39;00m, dtype\u001b[38;5;241m=\u001b[39mdtype)\n\u001b[0;32m    103\u001b[0m \u001b[38;5;28;01mif\u001b[39;00m y_true\u001b[38;5;241m.\u001b[39mndim \u001b[38;5;241m==\u001b[39m \u001b[38;5;241m1\u001b[39m:\n",
      "File \u001b[1;32m~\\AppData\\Local\\Packages\\PythonSoftwareFoundation.Python.3.11_qbz5n2kfra8p0\\LocalCache\\local-packages\\Python311\\site-packages\\sklearn\\utils\\validation.py:957\u001b[0m, in \u001b[0;36mcheck_array\u001b[1;34m(array, accept_sparse, accept_large_sparse, dtype, order, copy, force_all_finite, ensure_2d, allow_nd, ensure_min_samples, ensure_min_features, estimator, input_name)\u001b[0m\n\u001b[0;32m    951\u001b[0m         \u001b[38;5;28;01mraise\u001b[39;00m \u001b[38;5;167;01mValueError\u001b[39;00m(\n\u001b[0;32m    952\u001b[0m             \u001b[38;5;124m\"\u001b[39m\u001b[38;5;124mFound array with dim \u001b[39m\u001b[38;5;132;01m%d\u001b[39;00m\u001b[38;5;124m. \u001b[39m\u001b[38;5;132;01m%s\u001b[39;00m\u001b[38;5;124m expected <= 2.\u001b[39m\u001b[38;5;124m\"\u001b[39m\n\u001b[0;32m    953\u001b[0m             \u001b[38;5;241m%\u001b[39m (array\u001b[38;5;241m.\u001b[39mndim, estimator_name)\n\u001b[0;32m    954\u001b[0m         )\n\u001b[0;32m    956\u001b[0m     \u001b[38;5;28;01mif\u001b[39;00m force_all_finite:\n\u001b[1;32m--> 957\u001b[0m         \u001b[43m_assert_all_finite\u001b[49m\u001b[43m(\u001b[49m\n\u001b[0;32m    958\u001b[0m \u001b[43m            \u001b[49m\u001b[43marray\u001b[49m\u001b[43m,\u001b[49m\n\u001b[0;32m    959\u001b[0m \u001b[43m            \u001b[49m\u001b[43minput_name\u001b[49m\u001b[38;5;241;43m=\u001b[39;49m\u001b[43minput_name\u001b[49m\u001b[43m,\u001b[49m\n\u001b[0;32m    960\u001b[0m \u001b[43m            \u001b[49m\u001b[43mestimator_name\u001b[49m\u001b[38;5;241;43m=\u001b[39;49m\u001b[43mestimator_name\u001b[49m\u001b[43m,\u001b[49m\n\u001b[0;32m    961\u001b[0m \u001b[43m            \u001b[49m\u001b[43mallow_nan\u001b[49m\u001b[38;5;241;43m=\u001b[39;49m\u001b[43mforce_all_finite\u001b[49m\u001b[43m \u001b[49m\u001b[38;5;241;43m==\u001b[39;49m\u001b[43m \u001b[49m\u001b[38;5;124;43m\"\u001b[39;49m\u001b[38;5;124;43mallow-nan\u001b[39;49m\u001b[38;5;124;43m\"\u001b[39;49m\u001b[43m,\u001b[49m\n\u001b[0;32m    962\u001b[0m \u001b[43m        \u001b[49m\u001b[43m)\u001b[49m\n\u001b[0;32m    964\u001b[0m \u001b[38;5;28;01mif\u001b[39;00m ensure_min_samples \u001b[38;5;241m>\u001b[39m \u001b[38;5;241m0\u001b[39m:\n\u001b[0;32m    965\u001b[0m     n_samples \u001b[38;5;241m=\u001b[39m _num_samples(array)\n",
      "File \u001b[1;32m~\\AppData\\Local\\Packages\\PythonSoftwareFoundation.Python.3.11_qbz5n2kfra8p0\\LocalCache\\local-packages\\Python311\\site-packages\\sklearn\\utils\\validation.py:122\u001b[0m, in \u001b[0;36m_assert_all_finite\u001b[1;34m(X, allow_nan, msg_dtype, estimator_name, input_name)\u001b[0m\n\u001b[0;32m    119\u001b[0m \u001b[38;5;28;01mif\u001b[39;00m first_pass_isfinite:\n\u001b[0;32m    120\u001b[0m     \u001b[38;5;28;01mreturn\u001b[39;00m\n\u001b[1;32m--> 122\u001b[0m \u001b[43m_assert_all_finite_element_wise\u001b[49m\u001b[43m(\u001b[49m\n\u001b[0;32m    123\u001b[0m \u001b[43m    \u001b[49m\u001b[43mX\u001b[49m\u001b[43m,\u001b[49m\n\u001b[0;32m    124\u001b[0m \u001b[43m    \u001b[49m\u001b[43mxp\u001b[49m\u001b[38;5;241;43m=\u001b[39;49m\u001b[43mxp\u001b[49m\u001b[43m,\u001b[49m\n\u001b[0;32m    125\u001b[0m \u001b[43m    \u001b[49m\u001b[43mallow_nan\u001b[49m\u001b[38;5;241;43m=\u001b[39;49m\u001b[43mallow_nan\u001b[49m\u001b[43m,\u001b[49m\n\u001b[0;32m    126\u001b[0m \u001b[43m    \u001b[49m\u001b[43mmsg_dtype\u001b[49m\u001b[38;5;241;43m=\u001b[39;49m\u001b[43mmsg_dtype\u001b[49m\u001b[43m,\u001b[49m\n\u001b[0;32m    127\u001b[0m \u001b[43m    \u001b[49m\u001b[43mestimator_name\u001b[49m\u001b[38;5;241;43m=\u001b[39;49m\u001b[43mestimator_name\u001b[49m\u001b[43m,\u001b[49m\n\u001b[0;32m    128\u001b[0m \u001b[43m    \u001b[49m\u001b[43minput_name\u001b[49m\u001b[38;5;241;43m=\u001b[39;49m\u001b[43minput_name\u001b[49m\u001b[43m,\u001b[49m\n\u001b[0;32m    129\u001b[0m \u001b[43m\u001b[49m\u001b[43m)\u001b[49m\n",
      "File \u001b[1;32m~\\AppData\\Local\\Packages\\PythonSoftwareFoundation.Python.3.11_qbz5n2kfra8p0\\LocalCache\\local-packages\\Python311\\site-packages\\sklearn\\utils\\validation.py:171\u001b[0m, in \u001b[0;36m_assert_all_finite_element_wise\u001b[1;34m(X, xp, allow_nan, msg_dtype, estimator_name, input_name)\u001b[0m\n\u001b[0;32m    154\u001b[0m \u001b[38;5;28;01mif\u001b[39;00m estimator_name \u001b[38;5;129;01mand\u001b[39;00m input_name \u001b[38;5;241m==\u001b[39m \u001b[38;5;124m\"\u001b[39m\u001b[38;5;124mX\u001b[39m\u001b[38;5;124m\"\u001b[39m \u001b[38;5;129;01mand\u001b[39;00m has_nan_error:\n\u001b[0;32m    155\u001b[0m     \u001b[38;5;66;03m# Improve the error message on how to handle missing values in\u001b[39;00m\n\u001b[0;32m    156\u001b[0m     \u001b[38;5;66;03m# scikit-learn.\u001b[39;00m\n\u001b[0;32m    157\u001b[0m     msg_err \u001b[38;5;241m+\u001b[39m\u001b[38;5;241m=\u001b[39m (\n\u001b[0;32m    158\u001b[0m         \u001b[38;5;124mf\u001b[39m\u001b[38;5;124m\"\u001b[39m\u001b[38;5;130;01m\\n\u001b[39;00m\u001b[38;5;132;01m{\u001b[39;00mestimator_name\u001b[38;5;132;01m}\u001b[39;00m\u001b[38;5;124m does not accept missing values\u001b[39m\u001b[38;5;124m\"\u001b[39m\n\u001b[0;32m    159\u001b[0m         \u001b[38;5;124m\"\u001b[39m\u001b[38;5;124m encoded as NaN natively. For supervised learning, you might want\u001b[39m\u001b[38;5;124m\"\u001b[39m\n\u001b[1;32m   (...)\u001b[0m\n\u001b[0;32m    169\u001b[0m         \u001b[38;5;124m\"\u001b[39m\u001b[38;5;124m#estimators-that-handle-nan-values\u001b[39m\u001b[38;5;124m\"\u001b[39m\n\u001b[0;32m    170\u001b[0m     )\n\u001b[1;32m--> 171\u001b[0m \u001b[38;5;28;01mraise\u001b[39;00m \u001b[38;5;167;01mValueError\u001b[39;00m(msg_err)\n",
      "\u001b[1;31mValueError\u001b[0m: Input contains NaN."
     ]
    },
    {
     "ename": "",
     "evalue": "",
     "output_type": "error",
     "traceback": [
      "\u001b[1;31mThe Kernel crashed while executing code in the current cell or a previous cell. \n",
      "\u001b[1;31mPlease review the code in the cell(s) to identify a possible cause of the failure. \n",
      "\u001b[1;31mClick <a href='https://aka.ms/vscodeJupyterKernelCrash'>here</a> for more info. \n",
      "\u001b[1;31mView Jupyter <a href='command:jupyter.viewOutput'>log</a> for further details."
     ]
    }
   ],
   "source": [
    "# محاسبه معیارهای عملکرد مدل مانند MSE یا RMSE\n",
    "from sklearn.metrics import mean_squared_error\n",
    "train_rmse = np.sqrt(mean_squared_error(Y_train[0], train_predict[:,0]))\n",
    "test_rmse = np.sqrt(mean_squared_error(Y_test[0], test_predict[:,0]))\n",
    "\n",
    "print(\"Train RMSE:\", train_rmse)\n",
    "print(\"Test RMSE:\", test_rmse)\n"
   ]
  }
 ],
 "metadata": {
  "kernelspec": {
   "display_name": "Python 3",
   "language": "python",
   "name": "python3"
  },
  "language_info": {
   "codemirror_mode": {
    "name": "ipython",
    "version": 3
   },
   "file_extension": ".py",
   "mimetype": "text/x-python",
   "name": "python",
   "nbconvert_exporter": "python",
   "pygments_lexer": "ipython3",
   "version": "3.11.7"
  }
 },
 "nbformat": 4,
 "nbformat_minor": 2
}
