{
 "cells": [
  {
   "cell_type": "code",
   "execution_count": 1,
   "metadata": {},
   "outputs": [],
   "source": [
    "import tensorflow as tf\n",
    "from tensorflow.keras import layers, models\n",
    "from tensorflow.keras.datasets import cifar10\n",
    "from tensorflow.keras.applications import InceptionV3\n",
    "from tensorflow.keras.preprocessing.image import ImageDataGenerator"
   ]
  },
  {
   "cell_type": "code",
   "execution_count": 2,
   "metadata": {},
   "outputs": [],
   "source": [
    "# Load CIFAR-10 dataset\n",
    "(train_images, train_labels), (test_images, test_labels) = cifar10.load_data()"
   ]
  },
  {
   "cell_type": "code",
   "execution_count": 3,
   "metadata": {},
   "outputs": [],
   "source": [
    "train_images, test_images = train_images / 255.0, test_images / 255.0"
   ]
  },
  {
   "cell_type": "code",
   "execution_count": 4,
   "metadata": {},
   "outputs": [],
   "source": [
    "# Create data generators with data augmentation for training set\n",
    "datagen = ImageDataGenerator(\n",
    "    rotation_range=40,\n",
    "    width_shift_range=0.2,\n",
    "    height_shift_range=0.2,\n",
    "    shear_range=0.2,\n",
    "    zoom_range=0.2,\n",
    "    horizontal_flip=True,\n",
    "    fill_mode='nearest'\n",
    ")"
   ]
  },
  {
   "cell_type": "code",
   "execution_count": 5,
   "metadata": {},
   "outputs": [],
   "source": [
    "# Build GoogLeNet (InceptionV1) model with pre-trained weights on ImageNet\n",
    "base_model = InceptionV3(weights='imagenet', include_top=False, input_shape=(224, 224, 3))\n",
    "base_model.trainable = False  # Freeze the layers"
   ]
  },
  {
   "cell_type": "code",
   "execution_count": 7,
   "metadata": {},
   "outputs": [],
   "source": [
    "model = models.Sequential([\n",
    "    layers.UpSampling2D((7, 7)),\n",
    "    base_model,\n",
    "    layers.Flatten(),\n",
    "    layers.Dense(512, activation='relu'),\n",
    "    layers.Dropout(0.5),\n",
    "    layers.Dense(10, activation='softmax')\n",
    "])"
   ]
  },
  {
   "cell_type": "code",
   "execution_count": 8,
   "metadata": {},
   "outputs": [],
   "source": [
    "model.compile(optimizer='adam',\n",
    "              loss='sparse_categorical_crossentropy',\n",
    "              metrics=['accuracy'])"
   ]
  },
  {
   "cell_type": "code",
   "execution_count": 9,
   "metadata": {},
   "outputs": [],
   "source": [
    "# Preprocess and augment the data using the data generator\n",
    "datagen.fit(train_images)"
   ]
  },
  {
   "cell_type": "code",
   "execution_count": 10,
   "metadata": {},
   "outputs": [
    {
     "name": "stdout",
     "output_type": "stream",
     "text": [
      "Epoch 1/10\n",
      "1563/1563 [==============================] - 2529s 2s/step - loss: 2.2766 - accuracy: 0.0731 - val_loss: 1.3128 - val_accuracy: 0.0534\n",
      "Epoch 2/10\n",
      "1563/1563 [==============================] - 2429s 2s/step - loss: 1.7837 - accuracy: 0.0690 - val_loss: 1.1459 - val_accuracy: 0.0486\n",
      "Epoch 3/10\n",
      "1563/1563 [==============================] - 2345s 2s/step - loss: 1.7367 - accuracy: 0.0752 - val_loss: 1.0644 - val_accuracy: 0.1526\n",
      "Epoch 4/10\n",
      "1563/1563 [==============================] - 3124s 2s/step - loss: 1.6962 - accuracy: 0.0768 - val_loss: 1.0347 - val_accuracy: 0.0564\n",
      "Epoch 5/10\n",
      "1563/1563 [==============================] - 2501s 2s/step - loss: 1.6737 - accuracy: 0.0793 - val_loss: 1.0452 - val_accuracy: 0.0948\n",
      "Epoch 6/10\n",
      "1563/1563 [==============================] - 2364s 2s/step - loss: 1.6582 - accuracy: 0.0848 - val_loss: 0.9189 - val_accuracy: 0.0800\n",
      "Epoch 7/10\n",
      "1563/1563 [==============================] - 2352s 2s/step - loss: 1.6586 - accuracy: 0.0821 - val_loss: 0.9931 - val_accuracy: 0.0940\n",
      "Epoch 8/10\n",
      "1563/1563 [==============================] - 2342s 1s/step - loss: 1.6454 - accuracy: 0.0869 - val_loss: 1.0197 - val_accuracy: 0.1025\n",
      "Epoch 9/10\n",
      "1563/1563 [==============================] - 2343s 1s/step - loss: 1.6425 - accuracy: 0.0881 - val_loss: 0.9870 - val_accuracy: 0.0190\n",
      "Epoch 10/10\n",
      "1563/1563 [==============================] - 2342s 1s/step - loss: 1.6379 - accuracy: 0.0877 - val_loss: 0.9911 - val_accuracy: 0.0509\n"
     ]
    },
    {
     "data": {
      "text/plain": [
       "<keras.src.callbacks.History at 0x1f809eee450>"
      ]
     },
     "execution_count": 10,
     "metadata": {},
     "output_type": "execute_result"
    }
   ],
   "source": [
    "# Train the model with data augmentation\n",
    "model.fit(datagen.flow(train_images, train_labels, batch_size=32),\n",
    "          epochs=10,\n",
    "          validation_data=(test_images, test_labels))"
   ]
  },
  {
   "cell_type": "code",
   "execution_count": 11,
   "metadata": {},
   "outputs": [
    {
     "name": "stdout",
     "output_type": "stream",
     "text": [
      "313/313 [==============================] - 407s 1s/step - loss: 0.9911 - accuracy: 0.0509\n",
      "Test accuracy: 0.05090000107884407\n"
     ]
    }
   ],
   "source": [
    "# Evaluate the model on the test set\n",
    "test_loss, test_acc = model.evaluate(test_images, test_labels)\n",
    "print(f'Test accuracy: {test_acc}')\n"
   ]
  },
  {
   "cell_type": "code",
   "execution_count": 1,
   "metadata": {},
   "outputs": [
    {
     "ename": "NameError",
     "evalue": "name 'tf' is not defined",
     "output_type": "error",
     "traceback": [
      "\u001b[1;31m---------------------------------------------------------------------------\u001b[0m",
      "\u001b[1;31mNameError\u001b[0m                                 Traceback (most recent call last)",
      "Cell \u001b[1;32mIn[1], line 2\u001b[0m\n\u001b[0;32m      1\u001b[0m \u001b[38;5;66;03m# Plot model architecture\u001b[39;00m\n\u001b[1;32m----> 2\u001b[0m \u001b[43mtf\u001b[49m\u001b[38;5;241m.\u001b[39mkeras\u001b[38;5;241m.\u001b[39mutils\u001b[38;5;241m.\u001b[39mplot_model(model, show_shapes\u001b[38;5;241m=\u001b[39m\u001b[38;5;28;01mTrue\u001b[39;00m, to_file\u001b[38;5;241m=\u001b[39m\u001b[38;5;124m'\u001b[39m\u001b[38;5;124mResNet_model.png\u001b[39m\u001b[38;5;124m'\u001b[39m)\n",
      "\u001b[1;31mNameError\u001b[0m: name 'tf' is not defined"
     ]
    }
   ],
   "source": [
    "# Plot model architecture\n",
    "tf.keras.utils.plot_model(model, show_shapes=True, to_file='ResNet_model.png')"
   ]
  }
 ],
 "metadata": {
  "kernelspec": {
   "display_name": "Python 3",
   "language": "python",
   "name": "python3"
  },
  "language_info": {
   "codemirror_mode": {
    "name": "ipython",
    "version": 3
   },
   "file_extension": ".py",
   "mimetype": "text/x-python",
   "name": "python",
   "nbconvert_exporter": "python",
   "pygments_lexer": "ipython3",
   "version": "3.11.7"
  }
 },
 "nbformat": 4,
 "nbformat_minor": 2
}
