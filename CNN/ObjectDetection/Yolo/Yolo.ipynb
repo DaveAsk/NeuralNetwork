{
 "cells": [
  {
   "cell_type": "code",
   "execution_count": 12,
   "metadata": {},
   "outputs": [
    {
     "name": "stderr",
     "output_type": "stream",
     "text": [
      "Using cache found in C:\\Users\\David/.cache\\torch\\hub\\ultralytics_yolov5_master\n",
      "YOLOv5  2024-2-11 Python-3.11.8 torch-2.2.0+cpu CPU\n",
      "\n",
      "Fusing layers... \n",
      "YOLOv5s summary: 213 layers, 7225885 parameters, 0 gradients, 16.4 GFLOPs\n",
      "Adding AutoShape... \n"
     ]
    }
   ],
   "source": [
    "import torch\n",
    "import numpy as np\n",
    "import cv2\n",
    "\n",
    "# Load YOLOv5 model\n",
    "model = torch.hub.load('ultralytics/yolov5', 'yolov5s', pretrained=True)\n",
    "\n",
    "# Load image\n",
    "img = cv2.imread(\"..\\\\Image\\\\1.jpg\")\n",
    "img = cv2.resize(img, None, fx=0.4, fy=0.4)\n",
    "height, width, channels = img.shape\n",
    "\n",
    "# Convert BGR image to RGB\n",
    "img_rgb = cv2.cvtColor(img, cv2.COLOR_BGR2RGB)\n",
    "\n",
    "# Perform inference\n",
    "results = model(img_rgb)\n",
    "\n",
    "# Extract predictions\n",
    "predictions = results.xyxy[0].cpu().numpy()\n",
    "\n",
    "# Showing information on the screen\n",
    "for pred in predictions:\n",
    "    class_id = int(pred[5])\n",
    "    label = model.names[class_id]\n",
    "    confidence = pred[4]\n",
    "\n",
    "    if confidence > 0.5:\n",
    "        x, y, w, h = list(map(int, pred[:4]))\n",
    "        color = (255, 0, 0)\n",
    "        cv2.rectangle(img, (x, y), (w, h), color, 2)\n",
    "        cv2.putText(img, label, (x, y + 30), cv2.FONT_HERSHEY_PLAIN, 2, color, 2)\n",
    "\n",
    "cv2.imshow(\"Image\", img)\n",
    "cv2.waitKey(0)\n",
    "cv2.destroyAllWindows()\n"
   ]
  }
 ],
 "metadata": {
  "kernelspec": {
   "display_name": "Python 3",
   "language": "python",
   "name": "python3"
  },
  "language_info": {
   "codemirror_mode": {
    "name": "ipython",
    "version": 3
   },
   "file_extension": ".py",
   "mimetype": "text/x-python",
   "name": "python",
   "nbconvert_exporter": "python",
   "pygments_lexer": "ipython3",
   "version": "3.11.8"
  }
 },
 "nbformat": 4,
 "nbformat_minor": 2
}
