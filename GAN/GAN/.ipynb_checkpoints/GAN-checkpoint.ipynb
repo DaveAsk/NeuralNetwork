{
 "cells": [
  {
   "cell_type": "code",
   "execution_count": null,
   "id": "e2734a86-be2b-44a3-bbbf-2eb783d67a1e",
   "metadata": {},
   "outputs": [],
   "source": [
    "import matplotlib.pyplot as plt\n",
    "import numpy as np\n",
    "\n",
    "from keras.datasets import mnist\n",
    "from keras.layers import Dense,Flatten,Reshape\n",
    "from keras.layers.advanced_activations import LeakyReLU\n",
    "from keras.models import Sequential\n",
    "from keras.optimizers import Adam"
   ]
  },
  {
   "cell_type": "code",
   "execution_count": null,
   "id": "3d754a3e-bf4a-41bd-bd53-08c4c02554cd",
   "metadata": {},
   "outputs": [],
   "source": [
    "img_rows=28\n",
    "img_cols=28\n",
    "channels=1\n",
    "\n",
    "img_shape = (img_rows,img_cols,channels)\n",
    "\n",
    "zdim=100\n"
   ]
  },
  {
   "cell_type": "code",
   "execution_count": null,
   "id": "420cec85-24d9-4b63-a780-00605e42850b",
   "metadata": {},
   "outputs": [],
   "source": [
    "def build_gen(img_shape,zdim):\n",
    "    model = Sequential()\n",
    "    model.add(Dense(128,input_dim=zdim))\n",
    "    model.add(LeakyReLU(alpha=0.01))\n",
    "    model.add(Dense(28*28*1,activation='tanh'))\n",
    "    model.add(Reshape(img_shape))\n",
    "    return model"
   ]
  },
  {
   "cell_type": "code",
   "execution_count": null,
   "id": "06076ade-e4e5-46d7-a482-4e0e85e5dca2",
   "metadata": {},
   "outputs": [],
   "source": [
    "def build_dis(img_shape):\n",
    "    model=Sequential()\n",
    "    model.add(Flatten(input_shape=img_shape))\n",
    "    model.add(Dense(128))\n",
    "    model.add(LeakyReLU(alpha=0.01))\n",
    "    model.add(Dense(1,activation='sigmoid'))\n",
    "    return model"
   ]
  },
  {
   "cell_type": "code",
   "execution_count": null,
   "id": "ba39894a-d0b2-4a37-aaba-20050c3eb8f8",
   "metadata": {},
   "outputs": [],
   "source": [
    "def build_gan(gen,dis):\n",
    "    model = Sequential()\n",
    "    model.add(gen)\n",
    "    model.add(dis)\n",
    "    return model"
   ]
  },
  {
   "cell_type": "code",
   "execution_count": null,
   "id": "c84a5c15-9084-403b-9003-849340369d77",
   "metadata": {},
   "outputs": [],
   "source": [
    "dis_v = build_dis(img_shape)\n",
    "dis_v.compile(loss='binary_crossentropy',\n",
    "              optimizer=Adam(),\n",
    "              metrics=['accuracy'])"
   ]
  },
  {
   "cell_type": "code",
   "execution_count": null,
   "id": "c6c6626c-1705-4f4a-8e3a-8eb3bc0c05bf",
   "metadata": {},
   "outputs": [],
   "source": [
    "gen_v = build_gen(img_shape,zdim)\n",
    "dis_v.trainable=False\n",
    "gan_v = build_gan(gen_v,dis_v)\n",
    "gan_v.compile(loss='binary_crossentropy',\n",
    "              optimizer=Adam()\n",
    "             )"
   ]
  },
  {
   "cell_type": "code",
   "execution_count": null,
   "id": "74bd318f-5a2f-4e1c-a23f-69eeb06f9bee",
   "metadata": {},
   "outputs": [],
   "source": [
    "losses=[]\n",
    "accuracies=[]\n",
    "iteration_checks=[]\n",
    "\n",
    "def train(iterations,batch_size,interval):\n",
    "\n",
    "    (Xtrain, _),(_, _) = mnist.load_data()\n",
    "    Xtrain = Xtrain/127.5 - 1.0\n",
    "    Xtrain = np.expand_dims(Xtrain,axis=3)\n",
    "\n",
    "    real = np.ones((batch_size,1))\n",
    "    fake = np.zeros((batch_size, 1))\n",
    "\n",
    "    for iteration in range(iterations):\n",
    "\n",
    "        ids = np.random.randint(0,Xtrain.shape[0],batch_size)\n",
    "        imgs = Xtrain[ids]\n",
    "\n",
    "        z=np.random.normal(0,1,(batch_size,100))\n",
    "        gen_imgs = gen_v.predict(z)\n",
    "\n",
    "        dloss_real = dis_v.train_on_batch(imgs,real)\n",
    "        dloss_fake = dis_v.train_on_batch(gen_imgs, fake)\n",
    "\n",
    "        dloss,accuracy = 0.5 * np.add(dloss_real,dloss_fake)\n",
    "\n",
    "        z = np.random.normal(0, 1, (batch_size, 100))\n",
    "        gloss = gan_v.train_on_batch(z,real)\n",
    "\n",
    "        if (iteration+1) % interval == 0:\n",
    "            losses.append((dloss,gloss))\n",
    "            accuracies.append(100.0*accuracy)\n",
    "            iteration_checks.append(iteration+1)\n",
    "\n",
    "            print(\"%d [D loss: %f , acc: %.2f] [G loss: %f]\" %\n",
    "                  (iteration+1,dloss,100.0*accuracy,gloss))\n",
    "            show_images(gen_v)\n"
   ]
  },
  {
   "cell_type": "code",
   "execution_count": null,
   "id": "f7bab0ba-60f2-40d6-ae2c-f90fd47bcfb6",
   "metadata": {},
   "outputs": [],
   "source": [
    "def show_images(gen):\n",
    "    z = np.random.normal(0, 1, (16, 100))\n",
    "    gen_imgs = gen.predict(z)\n",
    "    gen_imgs = 0.5*gen_imgs + 0.5\n",
    "\n",
    "    fig,axs = plt.subplots(4,4,figsize=(4,4),sharey=True,sharex=True)\n",
    "\n",
    "    cnt=0\n",
    "    for i in range(4):\n",
    "        for j in range(4):\n",
    "            axs[i, j].imshow(gen_imgs[cnt,:,:,0],cmap='gray')\n",
    "            axs[i, j].axis('off')\n",
    "            cnt+=1\n",
    "\n",
    "    fig.show()\n",
    "\n"
   ]
  },
  {
   "cell_type": "code",
   "execution_count": null,
   "id": "176f9ed1-fcf1-4257-a85b-993c3384bc38",
   "metadata": {},
   "outputs": [],
   "source": [
    "train(5000,128,1000)"
   ]
  }
 ],
 "metadata": {
  "kernelspec": {
   "display_name": "Python 3 (ipykernel)",
   "language": "python",
   "name": "python3"
  },
  "language_info": {
   "codemirror_mode": {
    "name": "ipython",
    "version": 3
   },
   "file_extension": ".py",
   "mimetype": "text/x-python",
   "name": "python",
   "nbconvert_exporter": "python",
   "pygments_lexer": "ipython3",
   "version": "3.11.5"
  }
 },
 "nbformat": 4,
 "nbformat_minor": 5
}
